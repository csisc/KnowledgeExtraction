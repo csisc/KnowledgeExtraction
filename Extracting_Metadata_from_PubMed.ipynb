{
  "nbformat": 4,
  "nbformat_minor": 0,
  "metadata": {
    "colab": {
      "provenance": []
    },
    "kernelspec": {
      "name": "python3",
      "display_name": "Python 3"
    },
    "language_info": {
      "name": "python"
    }
  },
  "cells": [
    {
      "cell_type": "markdown",
      "source": [
        "# Installation des bibliothèques Python\n",
        "* Le point d'exclamation (!) signifie qu'on est en train d'écrire une instruction Shell au lieu d'un code Python. C'est comme si on est en train de faire une commande sur l'Invite des Commandes (cmd)."
      ],
      "metadata": {
        "id": "IxJcD2S8k-Vx"
      }
    },
    {
      "cell_type": "code",
      "execution_count": 1,
      "metadata": {
        "colab": {
          "base_uri": "https://localhost:8080/"
        },
        "id": "2KBO6dwHi3qE",
        "outputId": "9dae1759-63e7-4a1f-b228-f74dc02fdef6"
      },
      "outputs": [
        {
          "output_type": "stream",
          "name": "stdout",
          "text": [
            "Collecting biopython\n",
            "  Downloading biopython-1.85-cp311-cp311-manylinux_2_17_x86_64.manylinux2014_x86_64.whl.metadata (13 kB)\n",
            "Requirement already satisfied: numpy in /usr/local/lib/python3.11/dist-packages (from biopython) (1.26.4)\n",
            "Downloading biopython-1.85-cp311-cp311-manylinux_2_17_x86_64.manylinux2014_x86_64.whl (3.3 MB)\n",
            "\u001b[2K   \u001b[90m━━━━━━━━━━━━━━━━━━━━━━━━━━━━━━━━━━━━━━━━\u001b[0m \u001b[32m3.3/3.3 MB\u001b[0m \u001b[31m17.5 MB/s\u001b[0m eta \u001b[36m0:00:00\u001b[0m\n",
            "\u001b[?25hInstalling collected packages: biopython\n",
            "Successfully installed biopython-1.85\n"
          ]
        }
      ],
      "source": [
        "!pip install biopython"
      ]
    },
    {
      "cell_type": "markdown",
      "source": [
        "#Import des bibliothèques Python\n",
        "* La bibliothèque BioPython (Bio) inclut plusieurs services permettant de naviguer les bases des données de National Center of Biotechnology information (NCBI).\n",
        "* On va utiliser Entrez qui est une sous-bibliothèque permettant de traiter l'API Entrez de PubMed. On va également utiliser Medline qui est la base des données bibliographiques de PubMed.\n",
        "* Avant d'utiliser l'Entrez API, veuillez définir votre adresse email en utilisant la variable d'exécution Entrez.email afin d'identifier vos requêtes de PubMed et que les administrateurs des ressources NCBI puissent vous contacter en cas d'abus de l'utilisation de l'API."
      ],
      "metadata": {
        "id": "CYbYka43ld1n"
      }
    },
    {
      "cell_type": "code",
      "source": [
        "from Bio import Entrez\n",
        "from Bio import Medline\n",
        "\n",
        "Entrez.email = \"your_email@example.com\""
      ],
      "metadata": {
        "id": "nJ3GVa37i8t2"
      },
      "execution_count": 2,
      "outputs": []
    },
    {
      "cell_type": "markdown",
      "source": [
        "#Faire des recherches PubMed\n",
        "* On utilise Entrez.esearch pour faire une requête du moteur de recherche PubMed.\n",
        "  * On précise qu'on va utiliser PubMed comme la base des données en question.\n",
        "  * On définit le terme à chercher. Il y a plusieurs astuces pour faire une très bonne formulation des termes de la recherche.\n",
        "  * On identifie le nombre des résultats à afficher (retmax)\n",
        "  * On choisit le critère du tri des résultats (sort)."
      ],
      "metadata": {
        "id": "d9-QwL5QoCTA"
      }
    },
    {
      "cell_type": "code",
      "source": [
        "def search_pubmed(query, num_results):\n",
        "  handle = Entrez.esearch(db=\"pubmed\", term=query, retmax=num_results, sort=\"relevance\")\n",
        "  record = Entrez.read(handle)\n",
        "  handle.close()\n",
        "  return record[\"IdList\"]"
      ],
      "metadata": {
        "id": "wggC6XQKoflL"
      },
      "execution_count": 3,
      "outputs": []
    },
    {
      "cell_type": "markdown",
      "source": [
        "#Extraire des données bibliographiques\n",
        "* Pour extraire les données bibliographiques d'une publication indexée PubMed, on utilise la fonction Entrez.efetch. On précise:\n",
        "  * L'identifiant PubMed de la Publication\n",
        "  * PubMed comme la base des données\n",
        "  * Medline comme le type de retour des données bibliographiques afin d'avoir toutes les données possibles\n",
        "  * text (JSON) pour le format du résultat\n",
        "* On utilise Medline.parse pour lire le retour Medline et le convertir en JSON."
      ],
      "metadata": {
        "id": "ozGhAnOtof6g"
      }
    },
    {
      "cell_type": "code",
      "source": [
        "def get_pubmed_metadata(pmid):\n",
        "    handle = Entrez.efetch(db=\"pubmed\", id=pmid, rettype=\"medline\", retmode=\"text\")\n",
        "    records = Medline.parse(handle)\n",
        "    record = next(records)\n",
        "    handle.close()\n",
        "    return record"
      ],
      "metadata": {
        "id": "DaqOZmiAjlD3"
      },
      "execution_count": 4,
      "outputs": []
    },
    {
      "cell_type": "markdown",
      "source": [
        "#Extraire un champ bibliographique\n",
        "* Pour retrouver l'identifiant du champ, veuillez vous référer à https://pubmed.ncbi.nlm.nih.gov/help/. Un exemple d'identifiant d'un champ est \"TI\" pour le titre et \"MH\" pour les mots-clés MeSH.\n",
        "* Parfois, certains champs sont inaccessibles dans le Medline d'une publication indexée PubMed. On utilise \"try ... except ...\" pour se débarrasser de cette exception.\n",
        "* Si vous voulez faire une boucle pour extraire un même champ bibliographique de plusieurs publications PubMed, n'oubliez pas qu'il y a une limite de requête. Il faut importer time et ajouter time.sleep(5) après chaque requête pour ajouter un temps de latence entre chaque requête."
      ],
      "metadata": {
        "id": "62rEseq3pIXy"
      }
    },
    {
      "cell_type": "code",
      "source": [
        "query = \"Artificial Intelligence\"\n",
        "num_results = 3\n",
        "results = search_pubmed(query, num_results)\n",
        "\n",
        "if results:\n",
        "    first_result_pmid = results[0]\n",
        "    metadata = get_pubmed_metadata(first_result_pmid)\n",
        "try:\n",
        "  print(metadata[\"TI\"])\n",
        "except KeyError:\n",
        "  print(\"No title available\")"
      ],
      "metadata": {
        "colab": {
          "base_uri": "https://localhost:8080/"
        },
        "id": "C0RIZNDjj28t",
        "outputId": "0510f55d-ae59-4bda-abab-2829a7f8899f"
      },
      "execution_count": 6,
      "outputs": [
        {
          "output_type": "stream",
          "name": "stdout",
          "text": [
            "Artificial intelligence to deep learning: machine intelligence approach for drug discovery.\n"
          ]
        }
      ]
    }
  ]
}